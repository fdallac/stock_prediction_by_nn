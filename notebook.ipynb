{
 "cells": [
  {
   "cell_type": "markdown",
   "metadata": {},
   "source": [
    "# Stock Return Prediction\n",
    "#### by Filippo Dalla Chiara, 2020"
   ]
  },
  {
   "cell_type": "markdown",
   "metadata": {},
   "source": [
    "This Jupyter Notebook contains my first (naive) trial to face the data challenge (2020) proposed by **QRT** (*Qube Research and Technology*) at **College de France**. Furthermore, it is a project for the course *''Python for Finance and Data Science''* at **ESILV**, that's why I was sometimes pedantic in explanations.\\\n",
    "\\\n",
    "The challenge consists in a typical **Machine Learning** (ML) problem of **classification**, in particular the goal is to predict the following-day movement (up/down) in the market of some stocks, in order to help strategic investment decisions.\\\n",
    "Provided data contain the historical data (returns and volumes) over a time range of 20 days and some categorical data that describe stocks.\\\n",
    "\\\n",
    "QRT also shares a public benchmark for accuracy, equals to **51.31%**, obtained by Random Forest, using the last-5-days data and the average return of stocks in the same ''sector'' for the last day.\\\n",
    "\\\n",
    "Links:\\\n",
    "https://www.college-de-france.fr/site/stephane-mallat/Challenges-2020.htm \\\n",
    "https://challengedata.ens.fr/challenges/23"
   ]
  },
  {
   "cell_type": "markdown",
   "metadata": {},
   "source": [
    "Morover, this was my first real approach to **Neural Network** (NN) in Python and Keras, therefore most of my energy and time were spent on trying to understand how to build, set and tune a NN, than to really trying to improve the results. Since my lack of practical experience I face the problem by a *''trial and error''* approach, especially in the hyperparameters tuning of the NN.\\\n",
    "\\\n",
    "At the end I runned two classical classification algorithms (**Logistic Regression** and **Random Forest**) on the same features, just to make a comparison between test scores and check how good was my NN tuning."
   ]
  },
  {
   "cell_type": "markdown",
   "metadata": {},
   "source": [
    "## Import standard Python packages"
   ]
  },
  {
   "cell_type": "code",
   "execution_count": 252,
   "metadata": {},
   "outputs": [],
   "source": [
    "# must-to-import packages for every project :)\n",
    "import pandas as pd\n",
    "import numpy as np\n",
    "import matplotlib.pyplot as plt \n",
    "import seaborn as sns\n",
    "import time"
   ]
  },
  {
   "cell_type": "code",
   "execution_count": 253,
   "metadata": {},
   "outputs": [],
   "source": [
    "# plot style\n",
    "%matplotlib inline\n",
    "sns.set_palette('BrBG') #('GnBu_d')\n",
    "sns.set_style('whitegrid')"
   ]
  },
  {
   "cell_type": "markdown",
   "metadata": {},
   "source": [
    "## Import dataset"
   ]
  },
  {
   "cell_type": "code",
   "execution_count": 254,
   "metadata": {
    "scrolled": true
   },
   "outputs": [
    {
     "data": {
      "text/html": [
       "<div>\n",
       "<style scoped>\n",
       "    .dataframe tbody tr th:only-of-type {\n",
       "        vertical-align: middle;\n",
       "    }\n",
       "\n",
       "    .dataframe tbody tr th {\n",
       "        vertical-align: top;\n",
       "    }\n",
       "\n",
       "    .dataframe thead th {\n",
       "        text-align: right;\n",
       "    }\n",
       "</style>\n",
       "<table border=\"1\" class=\"dataframe\">\n",
       "  <thead>\n",
       "    <tr style=\"text-align: right;\">\n",
       "      <th></th>\n",
       "      <th>DATE</th>\n",
       "      <th>STOCK</th>\n",
       "      <th>INDUSTRY</th>\n",
       "      <th>INDUSTRY_GROUP</th>\n",
       "      <th>SECTOR</th>\n",
       "      <th>SUB_INDUSTRY</th>\n",
       "      <th>RET_1</th>\n",
       "      <th>VOLUME_1</th>\n",
       "      <th>RET_2</th>\n",
       "      <th>VOLUME_2</th>\n",
       "      <th>...</th>\n",
       "      <th>VOLUME_16</th>\n",
       "      <th>RET_17</th>\n",
       "      <th>VOLUME_17</th>\n",
       "      <th>RET_18</th>\n",
       "      <th>VOLUME_18</th>\n",
       "      <th>RET_19</th>\n",
       "      <th>VOLUME_19</th>\n",
       "      <th>RET_20</th>\n",
       "      <th>VOLUME_20</th>\n",
       "      <th>RET</th>\n",
       "    </tr>\n",
       "    <tr>\n",
       "      <th>ID</th>\n",
       "      <th></th>\n",
       "      <th></th>\n",
       "      <th></th>\n",
       "      <th></th>\n",
       "      <th></th>\n",
       "      <th></th>\n",
       "      <th></th>\n",
       "      <th></th>\n",
       "      <th></th>\n",
       "      <th></th>\n",
       "      <th></th>\n",
       "      <th></th>\n",
       "      <th></th>\n",
       "      <th></th>\n",
       "      <th></th>\n",
       "      <th></th>\n",
       "      <th></th>\n",
       "      <th></th>\n",
       "      <th></th>\n",
       "      <th></th>\n",
       "      <th></th>\n",
       "    </tr>\n",
       "  </thead>\n",
       "  <tbody>\n",
       "    <tr>\n",
       "      <th>0</th>\n",
       "      <td>0</td>\n",
       "      <td>2</td>\n",
       "      <td>18</td>\n",
       "      <td>5</td>\n",
       "      <td>3</td>\n",
       "      <td>44</td>\n",
       "      <td>-0.015748</td>\n",
       "      <td>0.147931</td>\n",
       "      <td>-0.015504</td>\n",
       "      <td>0.179183</td>\n",
       "      <td>...</td>\n",
       "      <td>0.630899</td>\n",
       "      <td>0.003254</td>\n",
       "      <td>-0.379412</td>\n",
       "      <td>0.008752</td>\n",
       "      <td>-0.110597</td>\n",
       "      <td>-0.012959</td>\n",
       "      <td>0.174521</td>\n",
       "      <td>-0.002155</td>\n",
       "      <td>-0.000937</td>\n",
       "      <td>True</td>\n",
       "    </tr>\n",
       "    <tr>\n",
       "      <th>1</th>\n",
       "      <td>0</td>\n",
       "      <td>3</td>\n",
       "      <td>43</td>\n",
       "      <td>15</td>\n",
       "      <td>6</td>\n",
       "      <td>104</td>\n",
       "      <td>0.003984</td>\n",
       "      <td>NaN</td>\n",
       "      <td>-0.090580</td>\n",
       "      <td>NaN</td>\n",
       "      <td>...</td>\n",
       "      <td>NaN</td>\n",
       "      <td>0.003774</td>\n",
       "      <td>NaN</td>\n",
       "      <td>-0.018518</td>\n",
       "      <td>NaN</td>\n",
       "      <td>-0.028777</td>\n",
       "      <td>NaN</td>\n",
       "      <td>-0.034722</td>\n",
       "      <td>NaN</td>\n",
       "      <td>True</td>\n",
       "    </tr>\n",
       "    <tr>\n",
       "      <th>2</th>\n",
       "      <td>0</td>\n",
       "      <td>4</td>\n",
       "      <td>57</td>\n",
       "      <td>20</td>\n",
       "      <td>8</td>\n",
       "      <td>142</td>\n",
       "      <td>0.000440</td>\n",
       "      <td>-0.096282</td>\n",
       "      <td>-0.058896</td>\n",
       "      <td>0.084771</td>\n",
       "      <td>...</td>\n",
       "      <td>-0.010336</td>\n",
       "      <td>-0.017612</td>\n",
       "      <td>-0.354333</td>\n",
       "      <td>-0.006562</td>\n",
       "      <td>-0.519391</td>\n",
       "      <td>-0.012101</td>\n",
       "      <td>-0.356157</td>\n",
       "      <td>-0.006867</td>\n",
       "      <td>-0.308868</td>\n",
       "      <td>False</td>\n",
       "    </tr>\n",
       "    <tr>\n",
       "      <th>3</th>\n",
       "      <td>0</td>\n",
       "      <td>8</td>\n",
       "      <td>1</td>\n",
       "      <td>1</td>\n",
       "      <td>1</td>\n",
       "      <td>2</td>\n",
       "      <td>0.031298</td>\n",
       "      <td>-0.429540</td>\n",
       "      <td>0.007756</td>\n",
       "      <td>-0.089919</td>\n",
       "      <td>...</td>\n",
       "      <td>0.012105</td>\n",
       "      <td>0.033824</td>\n",
       "      <td>-0.290178</td>\n",
       "      <td>-0.001468</td>\n",
       "      <td>-0.663834</td>\n",
       "      <td>-0.013520</td>\n",
       "      <td>-0.562126</td>\n",
       "      <td>-0.036745</td>\n",
       "      <td>-0.631458</td>\n",
       "      <td>False</td>\n",
       "    </tr>\n",
       "    <tr>\n",
       "      <th>4</th>\n",
       "      <td>0</td>\n",
       "      <td>14</td>\n",
       "      <td>36</td>\n",
       "      <td>12</td>\n",
       "      <td>5</td>\n",
       "      <td>92</td>\n",
       "      <td>0.027273</td>\n",
       "      <td>-0.847155</td>\n",
       "      <td>-0.039302</td>\n",
       "      <td>-0.943033</td>\n",
       "      <td>...</td>\n",
       "      <td>-0.277083</td>\n",
       "      <td>-0.012659</td>\n",
       "      <td>0.139086</td>\n",
       "      <td>0.004237</td>\n",
       "      <td>-0.017547</td>\n",
       "      <td>0.004256</td>\n",
       "      <td>0.579510</td>\n",
       "      <td>-0.040817</td>\n",
       "      <td>0.802806</td>\n",
       "      <td>False</td>\n",
       "    </tr>\n",
       "  </tbody>\n",
       "</table>\n",
       "<p>5 rows × 47 columns</p>\n",
       "</div>"
      ],
      "text/plain": [
       "    DATE  STOCK  INDUSTRY  INDUSTRY_GROUP  SECTOR  SUB_INDUSTRY     RET_1  \\\n",
       "ID                                                                          \n",
       "0      0      2        18               5       3            44 -0.015748   \n",
       "1      0      3        43              15       6           104  0.003984   \n",
       "2      0      4        57              20       8           142  0.000440   \n",
       "3      0      8         1               1       1             2  0.031298   \n",
       "4      0     14        36              12       5            92  0.027273   \n",
       "\n",
       "    VOLUME_1     RET_2  VOLUME_2  ...  VOLUME_16    RET_17  VOLUME_17  \\\n",
       "ID                                ...                                   \n",
       "0   0.147931 -0.015504  0.179183  ...   0.630899  0.003254  -0.379412   \n",
       "1        NaN -0.090580       NaN  ...        NaN  0.003774        NaN   \n",
       "2  -0.096282 -0.058896  0.084771  ...  -0.010336 -0.017612  -0.354333   \n",
       "3  -0.429540  0.007756 -0.089919  ...   0.012105  0.033824  -0.290178   \n",
       "4  -0.847155 -0.039302 -0.943033  ...  -0.277083 -0.012659   0.139086   \n",
       "\n",
       "      RET_18  VOLUME_18    RET_19  VOLUME_19    RET_20  VOLUME_20    RET  \n",
       "ID                                                                        \n",
       "0   0.008752  -0.110597 -0.012959   0.174521 -0.002155  -0.000937   True  \n",
       "1  -0.018518        NaN -0.028777        NaN -0.034722        NaN   True  \n",
       "2  -0.006562  -0.519391 -0.012101  -0.356157 -0.006867  -0.308868  False  \n",
       "3  -0.001468  -0.663834 -0.013520  -0.562126 -0.036745  -0.631458  False  \n",
       "4   0.004237  -0.017547  0.004256   0.579510 -0.040817   0.802806  False  \n",
       "\n",
       "[5 rows x 47 columns]"
      ]
     },
     "execution_count": 254,
     "metadata": {},
     "output_type": "execute_result"
    }
   ],
   "source": [
    "x_train = pd.read_csv('_res/x_train.csv', index_col='ID')\n",
    "y_train = pd.read_csv('_res/y_train.csv', index_col='ID')\n",
    "# concatenate 'x' and 'y' to create a unique dataset\n",
    "train = pd.concat([x_train, y_train], axis='columns')\n",
    "\n",
    "# check / show dataset\n",
    "train.head()"
   ]
  },
  {
   "cell_type": "markdown",
   "metadata": {},
   "source": [
    "#### Dataset composition\n",
    "The dataset provided contains both categorical and categorical data, in particular:\n",
    "- `DATE`, categorical data that group the rows in different trade days;\n",
    "- `STOCK`, categorical data that identify an anonymous stock;\n",
    "- `INDUSTRY`, `INDUSTRY_GROUP`, `SECTOR`, `SUB_INDUSTRY`, all categorical data that group the stocks relatively to the type of market;\n",
    "- `VOLUME_{n}` of a stock relative to its past and the mean volume of other stocks;\n",
    "- `RET_{n}`, performance of the stock relative to the market;\n",
    "- `RET`, *bool* value that indicates the movement ''up'' or ''down'' relative to the median of the stocks in the same day, and it is the target **label** to predict from other data."
   ]
  },
  {
   "cell_type": "code",
   "execution_count": 255,
   "metadata": {},
   "outputs": [
    {
     "name": "stdout",
     "output_type": "stream",
     "text": [
      "<class 'pandas.core.frame.DataFrame'>\n",
      "Int64Index: 418595 entries, 0 to 418594\n",
      "Data columns (total 47 columns):\n",
      "DATE              418595 non-null int64\n",
      "STOCK             418595 non-null int64\n",
      "INDUSTRY          418595 non-null int64\n",
      "INDUSTRY_GROUP    418595 non-null int64\n",
      "SECTOR            418595 non-null int64\n",
      "SUB_INDUSTRY      418595 non-null int64\n",
      "RET_1             416236 non-null float64\n",
      "VOLUME_1          353570 non-null float64\n",
      "RET_2             416130 non-null float64\n",
      "VOLUME_2          352209 non-null float64\n",
      "RET_3             416088 non-null float64\n",
      "VOLUME_3          350776 non-null float64\n",
      "RET_4             416051 non-null float64\n",
      "VOLUME_4          347598 non-null float64\n",
      "RET_5             416011 non-null float64\n",
      "VOLUME_5          343902 non-null float64\n",
      "RET_6             415998 non-null float64\n",
      "VOLUME_6          343881 non-null float64\n",
      "RET_7             416010 non-null float64\n",
      "VOLUME_7          344742 non-null float64\n",
      "RET_8             415972 non-null float64\n",
      "VOLUME_8          344697 non-null float64\n",
      "RET_9             415913 non-null float64\n",
      "VOLUME_9          345297 non-null float64\n",
      "RET_10            415903 non-null float64\n",
      "VOLUME_10         345290 non-null float64\n",
      "RET_11            415634 non-null float64\n",
      "VOLUME_11         346570 non-null float64\n",
      "RET_12            415409 non-null float64\n",
      "VOLUME_12         356072 non-null float64\n",
      "RET_13            415235 non-null float64\n",
      "VOLUME_13         359587 non-null float64\n",
      "RET_14            414182 non-null float64\n",
      "VOLUME_14         357666 non-null float64\n",
      "RET_15            413605 non-null float64\n",
      "VOLUME_15         352222 non-null float64\n",
      "RET_16            413315 non-null float64\n",
      "VOLUME_16         351333 non-null float64\n",
      "RET_17            413294 non-null float64\n",
      "VOLUME_17         356281 non-null float64\n",
      "RET_18            413288 non-null float64\n",
      "VOLUME_18         351009 non-null float64\n",
      "RET_19            413282 non-null float64\n",
      "VOLUME_19         351266 non-null float64\n",
      "RET_20            413254 non-null float64\n",
      "VOLUME_20         350738 non-null float64\n",
      "RET               418595 non-null bool\n",
      "dtypes: bool(1), float64(40), int64(6)\n",
      "memory usage: 150.5 MB\n"
     ]
    }
   ],
   "source": [
    "# show info about dataset\n",
    "train.info()"
   ]
  },
  {
   "cell_type": "markdown",
   "metadata": {},
   "source": [
    "## Data cleaning\n",
    "One of the first steps in data preprocessing is to manage with a incomplete or inconsistent dataset. Most of the ML algorithms is not able to work with missing data and so the need to remove incomplete rows/columns or possibly fill them.\\\n",
    "Firstly, one wants to visualize how much corrupted is the dataset and how missing data are distributed, in order to planify better cleaning strategy."
   ]
  },
  {
   "cell_type": "code",
   "execution_count": 256,
   "metadata": {},
   "outputs": [
    {
     "data": {
      "image/png": "[encoded data removed]",
      "text/plain": [
       "<Figure size 432x288 with 1 Axes>"
      ]
     },
     "metadata": {},
     "output_type": "display_data"
    }
   ],
   "source": [
    "# check corruption of dataset\n",
    "p = sns.heatmap(train.isnull(), yticklabels=False, xticklabels=True, cbar=False)\n",
    "p.tick_params(labelsize=6)"
   ]
  },
  {
   "cell_type": "markdown",
   "metadata": {},
   "source": [
    "As one can see in the previous plot, most of the missing values are in columns regarding \"exchanging volumes\".\\\n",
    "A strategy could be to fill the the missing values with the mean values for `VOLUME_{n}` for the same `INDUSTRY_GROUP` at the same `DATE`. This should infere at least the state of the the market for each sector at each date."
   ]
  },
  {
   "cell_type": "code",
   "execution_count": 257,
   "metadata": {},
   "outputs": [],
   "source": [
    "for COL in ['VOLUME_{}'.format(n+1) for n in range(20)]:\n",
    "    train[COL] = train.groupby(['DATE', 'INDUSTRY_GROUP'])[COL].transform(lambda x: x.fillna(x.mean()))"
   ]
  },
  {
   "cell_type": "markdown",
   "metadata": {},
   "source": [
    "For the other few missing data, one could notice that missing `RET_{n}` are mostly located in the same rows. Here the simplest strategy is to drop that lines, since infering that information would simply add \"fake\" data."
   ]
  },
  {
   "cell_type": "code",
   "execution_count": 258,
   "metadata": {},
   "outputs": [],
   "source": [
    "train.dropna(axis='index', inplace=True)"
   ]
  },
  {
   "cell_type": "code",
   "execution_count": 259,
   "metadata": {},
   "outputs": [],
   "source": [
    "# check / debug\n",
    "# train.info()"
   ]
  },
  {
   "cell_type": "markdown",
   "metadata": {},
   "source": [
    "## Data visualization"
   ]
  },
  {
   "cell_type": "markdown",
   "metadata": {},
   "source": [
    "Once the missing values are removed, one could really start to visualize the dataset and its characteristics. The first property of dataset I wanted to check is the balance of the classified labels. Here, labels in `RET` are computed in the following way:\n",
    "- `True` if the return **overperformes** the **median** of all returns that day\n",
    "- `False` if the return **underperformes** the **median** of all returns that day\n",
    "\n",
    "This assures, by construction, a good balance in the entire dataset.\\\n",
    "One would maybe like to check the balance of labels between subsets of data, for instance grouped by `SECTOR` and `INDUSTRY_GROUP`. This could also reveals the presence of some correlation between that feature and the target label."
   ]
  },
  {
   "cell_type": "code",
   "execution_count": 260,
   "metadata": {},
   "outputs": [
    {
     "data": {
      "text/plain": [
       "<matplotlib.axes._subplots.AxesSubplot at 0x8e319ab148>"
      ]
     },
     "execution_count": 260,
     "metadata": {},
     "output_type": "execute_result"
    },
    {
     "data": {
      "image/png": "[encoded data removed]",
      "text/plain": [
       "<Figure size 864x288 with 2 Axes>"
      ]
     },
     "metadata": {},
     "output_type": "display_data"
    }
   ],
   "source": [
    "f, (ax1, ax2) = plt.subplots(ncols=2, nrows=1, figsize=(12, 4))\n",
    "sns.countplot(x='SECTOR', hue='RET', data=train, ax=ax1)\n",
    "sns.countplot(x='INDUSTRY_GROUP', hue='RET', data=train, ax=ax2)"
   ]
  },
  {
   "cell_type": "markdown",
   "metadata": {},
   "source": [
    "As one can see from the previous plots, the labels `RET` are basically balanced even for subsets of the dataset, grouped by similarity. This shows that principle there's not any strong correlation between the `SECTOR`/`INDUSTRY_GROUP` and the movement in the market."
   ]
  },
  {
   "cell_type": "markdown",
   "metadata": {},
   "source": [
    "To define better the classification problem, I also wanted to visualize graphically numerical data in each row. The following plot shows the dynamics of returns and volumes for one stock in a range of 20 days and then movement (up or down) in the 21th day."
   ]
  },
  {
   "cell_type": "code",
   "execution_count": 261,
   "metadata": {},
   "outputs": [
    {
     "data": {
      "image/png": "[encoded data removed]",
      "text/plain": [
       "<Figure size 576x288 with 2 Axes>"
      ]
     },
     "metadata": {},
     "output_type": "display_data"
    }
   ],
   "source": [
    "# plot one row of data\n",
    "row_id = 24\n",
    "x_range = np.arange(20, 0, -1)\n",
    "\n",
    "# set plot\n",
    "f, ax1 = plt.subplots(figsize=[8,4])\n",
    "plt.xticks(range(20, -1, -1))\n",
    "ax1.set_xlim(21, -1)\n",
    "ax1.grid(False)\n",
    "ax1.bar(x_range, train[['RET_{}'.format(n) for n in x_range]].loc[row_id], alpha=1, label='Return', color='lightblue')\n",
    "ax1.bar(0, 0.1 if train['RET'].loc[row_id] else -0.1, alpha=1, label='Target (up/down)', color='tan')\n",
    "ax1.set_xlabel('Days to')\n",
    "ax1.set_ylabel('Return')\n",
    "ax1.legend(loc=2)\n",
    "# share x-axis\n",
    "ax2 = ax1.twinx()\n",
    "ax2.grid(False)\n",
    "ax2.plot(x_range, train[['VOLUME_{}'.format(n) for n in x_range]].loc[row_id], alpha=.8, label='Volume', c='teal',\n",
    "        linewidth=2)\n",
    "ax2.set_ylabel('Volume')\n",
    "ax2.legend(loc=1)\n",
    "f.tight_layout()"
   ]
  },
  {
   "cell_type": "markdown",
   "metadata": {},
   "source": [
    "#### Correlation matrix"
   ]
  },
  {
   "cell_type": "code",
   "execution_count": 262,
   "metadata": {},
   "outputs": [
    {
     "data": {
      "text/plain": [
       "(41.0, 0.0)"
      ]
     },
     "execution_count": 262,
     "metadata": {},
     "output_type": "execute_result"
    },
    {
     "data": {
      "image/png": "[encoded data removed]",
      "text/plain": [
       "<Figure size 864x720 with 2 Axes>"
      ]
     },
     "metadata": {},
     "output_type": "display_data"
    }
   ],
   "source": [
    "# compute the correlation matrix\n",
    "corr_matrix = train.drop(columns=['DATE','STOCK','INDUSTRY','INDUSTRY_GROUP','SECTOR','SUB_INDUSTRY']).corr()\n",
    "\n",
    "# generate a mask for the upper triangle\n",
    "mask = np.triu(np.ones_like(corr_matrix, dtype=np.bool))\n",
    "\n",
    "plt.figure(figsize=(12, 10))\n",
    "p = sns.heatmap(corr_matrix, mask=mask, vmax=.35, vmin=-.35, center=0, square=True, linewidths=.5, cmap='BrBG',\n",
    "                cbar_kws={\"shrink\": .5}, xticklabels=True, yticklabels=True)\n",
    "p.tick_params(labelsize=9)\n",
    "\n",
    "# fix seaborn/matplotlib bug that cuts the last row in the heatmap\n",
    "bottom, top = p.get_ylim()\n",
    "p.set_ylim(bottom+.5, top-.5)"
   ]
  },
  {
   "cell_type": "markdown",
   "metadata": {},
   "source": [
    "Correlation matrix shows substantial absence of correlation between the single features with label `RET`. Only evident correlation appears between `VOLUME_{n}` in close days and between same-day `VOLUME_{n}` and `RET_{n}`.\\\n",
    "It's also evident that more is the time-interval between two data, less is their correlation, as expected."
   ]
  },
  {
   "cell_type": "markdown",
   "metadata": {},
   "source": [
    "## Feature engineering"
   ]
  },
  {
   "cell_type": "markdown",
   "metadata": {},
   "source": [
    "Only historical data are traditionally not sufficient to predict the future movement in the market and even using good model, the forecasting power tends to be weak. For that reason, it's usefull to create compute other features to give as input to the ML algorithm.\\\n",
    "My choice fell to some classical to **technical indicators**, in particular:\n",
    "- **Simple Moving Average** (MA) for no. of days equals to 7, 14\n",
    "- **Exponential Moving Average** (EMA) for no. of days equals to 7, 14\n",
    "- **Moving Average Convergence/Divergence**, i.e. the difference between the *short period* and the *long period* EMAs.\n",
    "- **Historical volatility**, computed as standard deviation of returns over the all period of 20 days.\n",
    "\n",
    "Furthermore, I computed the **average daily return** grouping the stocks by `SECTOR` and `INDUSTRY_GROUP`. However, since the two lines were very similar, I kept only the first one."
   ]
  },
  {
   "cell_type": "code",
   "execution_count": 263,
   "metadata": {},
   "outputs": [],
   "source": [
    "# set desidered moving averages to compute\n",
    "N_MA = [7, 14]\n",
    "\n",
    "# create moving-averages features\n",
    "for N in N_MA:\n",
    "    for shift in range(20-N):\n",
    "        train['RET_MA{0}_{1}'.format(N, shift+1)] = train[['RET_{}'.format(n+shift+1) for n in range(N)]].mean(axis='columns')"
   ]
  },
  {
   "cell_type": "code",
   "execution_count": 264,
   "metadata": {},
   "outputs": [],
   "source": [
    "# compute for-sector-average-at-date-returns features\n",
    "for n in range(20):\n",
    "    train['RET_IN_SECTOR_{}'.format(n+1)] = train.groupby(['DATE', 'SECTOR'])['RET_{}'.format(n+1)].transform(lambda x: x.mean())\n",
    "\n",
    "# compute for-industry_group-average-at-date-returns features\n",
    "for n in range(20):\n",
    "    train['RET_IN_GROUP_{}'.format(n+1)] = train.groupby(['DATE', 'INDUSTRY_GROUP'])['RET_{}'.format(n+1)].transform(lambda x: x.mean())"
   ]
  },
  {
   "cell_type": "code",
   "execution_count": 265,
   "metadata": {},
   "outputs": [],
   "source": [
    "# compute exponential moving averages\n",
    "N_EMA = [7, 14]\n",
    "for n_ema in N_EMA:\n",
    "    alpha = 2 / (n_ema + 1)\n",
    "    n = 19\n",
    "    train['RET_EMA{}_19'.format(n_ema)] = train['RET_19'] * alpha + train['RET_20'] * (1-alpha)\n",
    "    for n in range(18, 0, -1):\n",
    "        train['RET_EMA{0}_{1}'.format(n_ema, n)] = train['RET_{}'.format(n)] * alpha \\\n",
    "                                                    + train['RET_EMA{0}_{1}'.format(n_ema, n+1)] * (1-alpha)\n",
    "        "
   ]
  },
  {
   "cell_type": "code",
   "execution_count": 266,
   "metadata": {},
   "outputs": [],
   "source": [
    "# compute moving average convergence/divergence \n",
    "for n in range(19):\n",
    "    train['RET_MACD_{}'.format(n+1)] = train['RET_EMA{0}_{1}'.format(N_EMA[1], n+1)] \\\n",
    "                                       - train['RET_EMA{0}_{1}'.format(N_EMA[0], n+1)]"
   ]
  },
  {
   "cell_type": "code",
   "execution_count": 272,
   "metadata": {},
   "outputs": [],
   "source": [
    "train['VOLATILITY'] = np.std(train[['RET_{}'.format(n+1) for n in range(20)]], axis=1)"
   ]
  },
  {
   "cell_type": "markdown",
   "metadata": {},
   "source": [
    "## Features selection\n",
    "In order not to introduce noise in the model, one could decide to take only a subset of the historical provided data.\\\n",
    "In this case I take only the information relative to the **previous 5 days** for the **returns**, **volumes** and all the **technical indicators**, plus the **historical volatility** over the all the 20-days time interval."
   ]
  },
  {
   "cell_type": "code",
   "execution_count": 273,
   "metadata": {},
   "outputs": [
    {
     "name": "stdout",
     "output_type": "stream",
     "text": [
      "No. of featueres: 41\n",
      "\n",
      "List of features:\n",
      "['VOLATILITY', 'RET_1', 'VOLUME_1', 'RET_IN_SECTOR_1', 'RET_MA7_1', 'RET_MA14_1', 'RET_EMA7_1', 'RET_EMA14_1', 'RET_MACD_1', 'RET_2', 'VOLUME_2', 'RET_IN_SECTOR_2', 'RET_MA7_2', 'RET_MA14_2', 'RET_EMA7_2', 'RET_EMA14_2', 'RET_MACD_2', 'RET_3', 'VOLUME_3', 'RET_IN_SECTOR_3', 'RET_MA7_3', 'RET_MA14_3', 'RET_EMA7_3', 'RET_EMA14_3', 'RET_MACD_3', 'RET_4', 'VOLUME_4', 'RET_IN_SECTOR_4', 'RET_MA7_4', 'RET_MA14_4', 'RET_EMA7_4', 'RET_EMA14_4', 'RET_MACD_4', 'RET_5', 'VOLUME_5', 'RET_IN_SECTOR_5', 'RET_MA7_5', 'RET_MA14_5', 'RET_EMA7_5', 'RET_EMA14_5', 'RET_MACD_5']\n"
     ]
    }
   ],
   "source": [
    "# set number of considered historical values\n",
    "N_HIST = 5\n",
    "\n",
    "# create list of features for model selection\n",
    "features = []\n",
    "features.append('VOLATILITY')\n",
    "for n in range(N_HIST):\n",
    "    features.append('RET_{}'.format(n+1))\n",
    "    features.append('VOLUME_{}'.format(n+1))\n",
    "    features.append('RET_IN_SECTOR_{}'.format(n+1))\n",
    "    for n_ma in N_MA:\n",
    "        if 20-n_ma > n:\n",
    "            features.append('RET_MA{0}_{1}'.format(n_ma, n+1))\n",
    "    for n_ema in N_EMA:\n",
    "        if n+1 < 20:\n",
    "            features.append('RET_EMA{0}_{1}'.format(n_ema, n+1))\n",
    "    if n+1 < 20:   \n",
    "        features.append('RET_MACD_{}'.format(n+1))\n",
    "\n",
    "# check / visualize list of selected features\n",
    "print('No. of featueres: {0}\\n\\nList of features:\\n{1}'.format(len(features), features))"
   ]
  },
  {
   "cell_type": "markdown",
   "metadata": {},
   "source": [
    "## Data normalization and standardization\n",
    "Data normalization is an important step in preprocessing to improve performance and speed in ML. Simplifying, it is used to reduce the distances in the space of data and adopting the same scale for all the dataset."
   ]
  },
  {
   "cell_type": "code",
   "execution_count": 274,
   "metadata": {},
   "outputs": [],
   "source": [
    "# before processing data I store the labels in the dependent variable to give as input to the learning model\n",
    "y = train['RET'].values"
   ]
  },
  {
   "cell_type": "code",
   "execution_count": 275,
   "metadata": {},
   "outputs": [],
   "source": [
    "from sklearn.preprocessing import StandardScaler"
   ]
  },
  {
   "cell_type": "code",
   "execution_count": 276,
   "metadata": {},
   "outputs": [
    {
     "data": {
      "text/plain": [
       "StandardScaler(copy=True, with_mean=True, with_std=True)"
      ]
     },
     "execution_count": 276,
     "metadata": {},
     "output_type": "execute_result"
    }
   ],
   "source": [
    "# preparing standardization and normalization\n",
    "scaler = StandardScaler()\n",
    "scaler.fit(train[features])"
   ]
  },
  {
   "cell_type": "code",
   "execution_count": 277,
   "metadata": {},
   "outputs": [],
   "source": [
    "# store standardized and normalized features in the independent variable to five as input to learning model\n",
    "X = scaler.fit_transform(train[features])"
   ]
  },
  {
   "cell_type": "markdown",
   "metadata": {},
   "source": [
    "## Split training and test set\n",
    "Before to perform the training, I keep part of the dataset to validate the model, testing the classification on it. Since the dataset is pretty huge, splitting in a classic 75-25 should be fine."
   ]
  },
  {
   "cell_type": "code",
   "execution_count": 278,
   "metadata": {},
   "outputs": [],
   "source": [
    "from sklearn.model_selection import train_test_split"
   ]
  },
  {
   "cell_type": "code",
   "execution_count": 279,
   "metadata": {},
   "outputs": [],
   "source": [
    "X_train, X_test, y_train, y_test = train_test_split(X, y, test_size=.25,\n",
    "                                                    random_state=24)"
   ]
  },
  {
   "cell_type": "markdown",
   "metadata": {},
   "source": [
    "# Deep learning"
   ]
  },
  {
   "cell_type": "markdown",
   "metadata": {},
   "source": [
    "## Import deep learning packages"
   ]
  },
  {
   "cell_type": "code",
   "execution_count": 60,
   "metadata": {},
   "outputs": [
    {
     "name": "stderr",
     "output_type": "stream",
     "text": [
      "Using TensorFlow backend.\n"
     ]
    }
   ],
   "source": [
    "from keras.models import Sequential\n",
    "from keras.layers import Dense, Dropout"
   ]
  },
  {
   "cell_type": "markdown",
   "metadata": {},
   "source": [
    "## Neural network construction\n",
    "After long-time tuning and many trials with different number of neurons, layers and various activation functions, the best performing structure that I found is the following:\n",
    "- **input layer** using `tanh` activation function and no. of neurons comparable with the input size (= no. of features);\n",
    "- **3 hidden layers**;\n",
    "- first huge hidden layers, made by **150 neurons** and **33% dropout**, this is to prevent overfitting, that affects the NN with a large no. of neurons per layer;\n",
    "- first layer uses `tanh` activation function;\n",
    "- second and third hidden layers built by **50** and **35 neurons**, respectively;\n",
    "- second and third hidden layers use `relu` activation function;\n",
    "- **output layer** using `sigmoid` activation function and 1-dimensional output, as typical for classication problems."
   ]
  },
  {
   "cell_type": "code",
   "execution_count": 61,
   "metadata": {},
   "outputs": [],
   "source": [
    "# build model\n",
    "model = Sequential()\n",
    "model.add(Dense(50, input_dim=len(features), activation='tanh'))\n",
    "model.add(Dense(150, activation='tanh'))\n",
    "model.add(Dropout(0.33))\n",
    "model.add(Dense(50, activation='relu'))\n",
    "model.add(Dense(35, activation='relu'))\n",
    "model.add(Dense(1, activation='sigmoid'))"
   ]
  },
  {
   "cell_type": "markdown",
   "metadata": {},
   "source": [
    "Choices for **loss function** and **metrics** fall on classical `binary_crossentropy` and `accuracy`, respectively. As for the optimizer, I found **ADAM** (`adam`) as the faster to converge and best performing than **Stochastic Gradient Descent**."
   ]
  },
  {
   "cell_type": "code",
   "execution_count": 64,
   "metadata": {},
   "outputs": [],
   "source": [
    "# compile model\n",
    "model.compile(loss='binary_crossentropy', optimizer='adam', metrics=['accuracy'])"
   ]
  },
  {
   "cell_type": "markdown",
   "metadata": {},
   "source": [
    "## Training network\n",
    "Last hyperparameters to choose are the `epoch` and `batch_size`. The choice falls on **250 epochs** and a **batch size** of **5000**, also considering the characteristics of my laptop (i5, 4core, RAM 4GB).\\\n",
    "\\\n",
    "**Warning!** Training could take ~ 10 mins"
   ]
  },
  {
   "cell_type": "code",
   "execution_count": 65,
   "metadata": {},
   "outputs": [
    {
     "name": "stdout",
     "output_type": "stream",
     "text": [
      "Epoch 1/250\n",
      "309351/309351 [==============================] - 3s 11us/step - loss: 0.6914 - accuracy: 0.5218\n",
      "Epoch 2/250\n",
      "309351/309351 [==============================] - 3s 9us/step - loss: 0.6902 - accuracy: 0.5268\n",
      "Epoch 3/250\n",
      "309351/309351 [==============================] - 3s 9us/step - loss: 0.6892 - accuracy: 0.5321\n",
      "Epoch 4/250\n",
      "309351/309351 [==============================] - 3s 9us/step - loss: 0.6884 - accuracy: 0.5333\n",
      "Epoch 5/250\n",
      "309351/309351 [==============================] - 3s 9us/step - loss: 0.6877 - accuracy: 0.5362\n",
      "Epoch 6/250\n",
      "309351/309351 [==============================] - 3s 9us/step - loss: 0.6868 - accuracy: 0.5393\n",
      "Epoch 7/250\n",
      "309351/309351 [==============================] - 3s 9us/step - loss: 0.6860 - accuracy: 0.5412\n",
      "Epoch 8/250\n",
      "309351/309351 [==============================] - 3s 9us/step - loss: 0.6856 - accuracy: 0.5420\n",
      "Epoch 9/250\n",
      "309351/309351 [==============================] - 3s 9us/step - loss: 0.6850 - accuracy: 0.5447\n",
      "Epoch 10/250\n",
      "309351/309351 [==============================] - 3s 9us/step - loss: 0.6843 - accuracy: 0.5460\n",
      "Epoch 11/250\n",
      "309351/309351 [==============================] - 3s 9us/step - loss: 0.6835 - accuracy: 0.5483\n",
      "Epoch 12/250\n",
      "309351/309351 [==============================] - 3s 9us/step - loss: 0.6834 - accuracy: 0.5493\n",
      "Epoch 13/250\n",
      "309351/309351 [==============================] - 3s 9us/step - loss: 0.6831 - accuracy: 0.5510\n",
      "Epoch 14/250\n",
      "309351/309351 [==============================] - 3s 9us/step - loss: 0.6825 - accuracy: 0.5506\n",
      "Epoch 15/250\n",
      "309351/309351 [==============================] - 3s 9us/step - loss: 0.6823 - accuracy: 0.5531\n",
      "Epoch 16/250\n",
      "309351/309351 [==============================] - 3s 9us/step - loss: 0.6817 - accuracy: 0.5529\n",
      "Epoch 17/250\n",
      "309351/309351 [==============================] - 3s 9us/step - loss: 0.6812 - accuracy: 0.5558\n",
      "Epoch 18/250\n",
      "309351/309351 [==============================] - 3s 9us/step - loss: 0.6811 - accuracy: 0.5544\n",
      "Epoch 19/250\n",
      "309351/309351 [==============================] - 3s 9us/step - loss: 0.6806 - accuracy: 0.5578\n",
      "Epoch 20/250\n",
      "309351/309351 [==============================] - 3s 9us/step - loss: 0.6802 - accuracy: 0.5567\n",
      "Epoch 21/250\n",
      "309351/309351 [==============================] - 3s 9us/step - loss: 0.6796 - accuracy: 0.5593\n",
      "Epoch 22/250\n",
      "309351/309351 [==============================] - 3s 9us/step - loss: 0.6794 - accuracy: 0.5603\n",
      "Epoch 23/250\n",
      "309351/309351 [==============================] - 3s 9us/step - loss: 0.6790 - accuracy: 0.5603\n",
      "Epoch 24/250\n",
      "309351/309351 [==============================] - 3s 9us/step - loss: 0.6786 - accuracy: 0.5613: 0s - loss: 0.6\n",
      "Epoch 25/250\n",
      "309351/309351 [==============================] - 3s 9us/step - loss: 0.6783 - accuracy: 0.5633\n",
      "Epoch 26/250\n",
      "309351/309351 [==============================] - 3s 9us/step - loss: 0.6781 - accuracy: 0.5621\n",
      "Epoch 27/250\n",
      "309351/309351 [==============================] - 3s 9us/step - loss: 0.6779 - accuracy: 0.5629\n",
      "Epoch 28/250\n",
      "309351/309351 [==============================] - 3s 9us/step - loss: 0.6777 - accuracy: 0.5639\n",
      "Epoch 29/250\n",
      "309351/309351 [==============================] - 3s 9us/step - loss: 0.6774 - accuracy: 0.5650\n",
      "Epoch 30/250\n",
      "309351/309351 [==============================] - 3s 9us/step - loss: 0.6770 - accuracy: 0.5654\n",
      "Epoch 31/250\n",
      "309351/309351 [==============================] - 3s 9us/step - loss: 0.6767 - accuracy: 0.5658\n",
      "Epoch 32/250\n",
      "309351/309351 [==============================] - 3s 9us/step - loss: 0.6763 - accuracy: 0.5666\n",
      "Epoch 33/250\n",
      "309351/309351 [==============================] - 3s 9us/step - loss: 0.6764 - accuracy: 0.5669\n",
      "Epoch 34/250\n",
      "309351/309351 [==============================] - 3s 9us/step - loss: 0.6760 - accuracy: 0.5679\n",
      "Epoch 35/250\n",
      "309351/309351 [==============================] - 3s 9us/step - loss: 0.6756 - accuracy: 0.5679\n",
      "Epoch 36/250\n",
      "309351/309351 [==============================] - 3s 8us/step - loss: 0.6756 - accuracy: 0.5684\n",
      "Epoch 37/250\n",
      "309351/309351 [==============================] - 3s 9us/step - loss: 0.6754 - accuracy: 0.5680\n",
      "Epoch 38/250\n",
      "309351/309351 [==============================] - 3s 9us/step - loss: 0.6753 - accuracy: 0.5694\n",
      "Epoch 39/250\n",
      "309351/309351 [==============================] - 3s 9us/step - loss: 0.6749 - accuracy: 0.5701\n",
      "Epoch 40/250\n",
      "309351/309351 [==============================] - 3s 9us/step - loss: 0.6746 - accuracy: 0.5703\n",
      "Epoch 41/250\n",
      "309351/309351 [==============================] - 3s 9us/step - loss: 0.6743 - accuracy: 0.5710\n",
      "Epoch 42/250\n",
      "309351/309351 [==============================] - 3s 9us/step - loss: 0.6740 - accuracy: 0.5718\n",
      "Epoch 43/250\n",
      "309351/309351 [==============================] - 3s 9us/step - loss: 0.6739 - accuracy: 0.5725\n",
      "Epoch 44/250\n",
      "309351/309351 [==============================] - 3s 9us/step - loss: 0.6741 - accuracy: 0.5716\n",
      "Epoch 45/250\n",
      "309351/309351 [==============================] - 3s 9us/step - loss: 0.6737 - accuracy: 0.5728\n",
      "Epoch 46/250\n",
      "309351/309351 [==============================] - 3s 9us/step - loss: 0.6735 - accuracy: 0.5735\n",
      "Epoch 47/250\n",
      "309351/309351 [==============================] - 3s 9us/step - loss: 0.6733 - accuracy: 0.5729\n",
      "Epoch 48/250\n",
      "309351/309351 [==============================] - 3s 9us/step - loss: 0.6734 - accuracy: 0.5735\n",
      "Epoch 49/250\n",
      "309351/309351 [==============================] - 3s 9us/step - loss: 0.6730 - accuracy: 0.5733\n",
      "Epoch 50/250\n",
      "309351/309351 [==============================] - 3s 9us/step - loss: 0.6728 - accuracy: 0.5738\n",
      "Epoch 51/250\n",
      "309351/309351 [==============================] - 3s 9us/step - loss: 0.6730 - accuracy: 0.5737\n",
      "Epoch 52/250\n",
      "309351/309351 [==============================] - 3s 9us/step - loss: 0.6726 - accuracy: 0.5740\n",
      "Epoch 53/250\n",
      "309351/309351 [==============================] - 3s 9us/step - loss: 0.6723 - accuracy: 0.5749\n",
      "Epoch 54/250\n",
      "309351/309351 [==============================] - 3s 9us/step - loss: 0.6726 - accuracy: 0.5749\n",
      "Epoch 55/250\n",
      "309351/309351 [==============================] - 3s 9us/step - loss: 0.6721 - accuracy: 0.5754\n",
      "Epoch 56/250\n",
      "309351/309351 [==============================] - 3s 9us/step - loss: 0.6719 - accuracy: 0.5763\n",
      "Epoch 57/250\n",
      "309351/309351 [==============================] - 3s 9us/step - loss: 0.6715 - accuracy: 0.5767\n",
      "Epoch 58/250\n",
      "309351/309351 [==============================] - 3s 9us/step - loss: 0.6716 - accuracy: 0.5768\n",
      "Epoch 59/250\n",
      "309351/309351 [==============================] - 3s 9us/step - loss: 0.6713 - accuracy: 0.5771\n",
      "Epoch 60/250\n",
      "309351/309351 [==============================] - 3s 9us/step - loss: 0.6710 - accuracy: 0.5774\n",
      "Epoch 61/250\n",
      "309351/309351 [==============================] - 3s 9us/step - loss: 0.6712 - accuracy: 0.5772\n",
      "Epoch 62/250\n",
      "309351/309351 [==============================] - 3s 9us/step - loss: 0.6713 - accuracy: 0.5777\n",
      "Epoch 63/250\n",
      "309351/309351 [==============================] - 3s 10us/step - loss: 0.6710 - accuracy: 0.5776\n",
      "Epoch 64/250\n",
      "309351/309351 [==============================] - 3s 9us/step - loss: 0.6711 - accuracy: 0.5770\n",
      "Epoch 65/250\n",
      "309351/309351 [==============================] - 3s 9us/step - loss: 0.6706 - accuracy: 0.5784\n",
      "Epoch 66/250\n",
      "309351/309351 [==============================] - 3s 9us/step - loss: 0.6703 - accuracy: 0.5789\n",
      "Epoch 67/250\n",
      "309351/309351 [==============================] - 3s 9us/step - loss: 0.6702 - accuracy: 0.5794\n",
      "Epoch 68/250\n",
      "309351/309351 [==============================] - 3s 9us/step - loss: 0.6703 - accuracy: 0.5791\n",
      "Epoch 69/250\n",
      "309351/309351 [==============================] - 3s 9us/step - loss: 0.6702 - accuracy: 0.5780\n",
      "Epoch 70/250\n",
      "309351/309351 [==============================] - 3s 9us/step - loss: 0.6699 - accuracy: 0.5791\n",
      "Epoch 71/250\n",
      "309351/309351 [==============================] - 3s 9us/step - loss: 0.6702 - accuracy: 0.5792\n",
      "Epoch 72/250\n",
      "309351/309351 [==============================] - 3s 9us/step - loss: 0.6698 - accuracy: 0.5794\n",
      "Epoch 73/250\n",
      "309351/309351 [==============================] - 3s 9us/step - loss: 0.6696 - accuracy: 0.5802\n",
      "Epoch 74/250\n",
      "309351/309351 [==============================] - 3s 9us/step - loss: 0.6694 - accuracy: 0.5813\n",
      "Epoch 75/250\n",
      "309351/309351 [==============================] - 3s 9us/step - loss: 0.6691 - accuracy: 0.5797\n",
      "Epoch 76/250\n"
     ]
    },
    {
     "name": "stdout",
     "output_type": "stream",
     "text": [
      "309351/309351 [==============================] - 3s 9us/step - loss: 0.6692 - accuracy: 0.5810\n",
      "Epoch 77/250\n",
      "309351/309351 [==============================] - 3s 8us/step - loss: 0.6696 - accuracy: 0.5804\n",
      "Epoch 78/250\n",
      "309351/309351 [==============================] - 3s 8us/step - loss: 0.6693 - accuracy: 0.5806\n",
      "Epoch 79/250\n",
      "309351/309351 [==============================] - 3s 8us/step - loss: 0.6693 - accuracy: 0.5811\n",
      "Epoch 80/250\n",
      "309351/309351 [==============================] - 3s 9us/step - loss: 0.6690 - accuracy: 0.5817\n",
      "Epoch 81/250\n",
      "309351/309351 [==============================] - 3s 8us/step - loss: 0.6689 - accuracy: 0.5813\n",
      "Epoch 82/250\n",
      "309351/309351 [==============================] - 3s 8us/step - loss: 0.6690 - accuracy: 0.5821\n",
      "Epoch 83/250\n",
      "309351/309351 [==============================] - 3s 9us/step - loss: 0.6690 - accuracy: 0.5820\n",
      "Epoch 84/250\n",
      "309351/309351 [==============================] - 3s 9us/step - loss: 0.6689 - accuracy: 0.5817\n",
      "Epoch 85/250\n",
      "309351/309351 [==============================] - 3s 8us/step - loss: 0.6683 - accuracy: 0.5820\n",
      "Epoch 86/250\n",
      "309351/309351 [==============================] - 3s 8us/step - loss: 0.6689 - accuracy: 0.5810\n",
      "Epoch 87/250\n",
      "309351/309351 [==============================] - 3s 9us/step - loss: 0.6684 - accuracy: 0.5831\n",
      "Epoch 88/250\n",
      "309351/309351 [==============================] - 3s 8us/step - loss: 0.6684 - accuracy: 0.5822\n",
      "Epoch 89/250\n",
      "309351/309351 [==============================] - 3s 8us/step - loss: 0.6680 - accuracy: 0.5835\n",
      "Epoch 90/250\n",
      "309351/309351 [==============================] - 3s 9us/step - loss: 0.6681 - accuracy: 0.5839\n",
      "Epoch 91/250\n",
      "309351/309351 [==============================] - 3s 9us/step - loss: 0.6682 - accuracy: 0.5821\n",
      "Epoch 92/250\n",
      "309351/309351 [==============================] - 3s 9us/step - loss: 0.6680 - accuracy: 0.5830\n",
      "Epoch 93/250\n",
      "309351/309351 [==============================] - 3s 9us/step - loss: 0.6679 - accuracy: 0.5843\n",
      "Epoch 94/250\n",
      "309351/309351 [==============================] - 3s 9us/step - loss: 0.6679 - accuracy: 0.5835\n",
      "Epoch 95/250\n",
      "309351/309351 [==============================] - 3s 9us/step - loss: 0.6678 - accuracy: 0.5835\n",
      "Epoch 96/250\n",
      "309351/309351 [==============================] - 3s 9us/step - loss: 0.6674 - accuracy: 0.5841\n",
      "Epoch 97/250\n",
      "309351/309351 [==============================] - 3s 9us/step - loss: 0.6674 - accuracy: 0.5836\n",
      "Epoch 98/250\n",
      "309351/309351 [==============================] - 3s 9us/step - loss: 0.6677 - accuracy: 0.5833\n",
      "Epoch 99/250\n",
      "309351/309351 [==============================] - 3s 9us/step - loss: 0.6675 - accuracy: 0.5845\n",
      "Epoch 100/250\n",
      "309351/309351 [==============================] - 3s 9us/step - loss: 0.6673 - accuracy: 0.5843\n",
      "Epoch 101/250\n",
      "309351/309351 [==============================] - 3s 9us/step - loss: 0.6675 - accuracy: 0.5848\n",
      "Epoch 102/250\n",
      "309351/309351 [==============================] - 3s 9us/step - loss: 0.6674 - accuracy: 0.5839\n",
      "Epoch 103/250\n",
      "309351/309351 [==============================] - 3s 8us/step - loss: 0.6671 - accuracy: 0.5853\n",
      "Epoch 104/250\n",
      "309351/309351 [==============================] - 3s 8us/step - loss: 0.6670 - accuracy: 0.5855\n",
      "Epoch 105/250\n",
      "309351/309351 [==============================] - 3s 9us/step - loss: 0.6668 - accuracy: 0.5859\n",
      "Epoch 106/250\n",
      "309351/309351 [==============================] - 3s 9us/step - loss: 0.6669 - accuracy: 0.5852\n",
      "Epoch 107/250\n",
      "309351/309351 [==============================] - 3s 9us/step - loss: 0.6671 - accuracy: 0.5846\n",
      "Epoch 108/250\n",
      "309351/309351 [==============================] - 3s 8us/step - loss: 0.6667 - accuracy: 0.5863\n",
      "Epoch 109/250\n",
      "309351/309351 [==============================] - 3s 8us/step - loss: 0.6667 - accuracy: 0.5864\n",
      "Epoch 110/250\n",
      "309351/309351 [==============================] - 3s 9us/step - loss: 0.6668 - accuracy: 0.5848\n",
      "Epoch 111/250\n",
      "309351/309351 [==============================] - 3s 9us/step - loss: 0.6665 - accuracy: 0.5862\n",
      "Epoch 112/250\n",
      "309351/309351 [==============================] - 3s 9us/step - loss: 0.6664 - accuracy: 0.5867\n",
      "Epoch 113/250\n",
      "309351/309351 [==============================] - 3s 9us/step - loss: 0.6664 - accuracy: 0.5858\n",
      "Epoch 114/250\n",
      "309351/309351 [==============================] - 3s 9us/step - loss: 0.6664 - accuracy: 0.5860\n",
      "Epoch 115/250\n",
      "309351/309351 [==============================] - 3s 9us/step - loss: 0.6663 - accuracy: 0.5875\n",
      "Epoch 116/250\n",
      "309351/309351 [==============================] - 3s 9us/step - loss: 0.6661 - accuracy: 0.5869\n",
      "Epoch 117/250\n",
      "309351/309351 [==============================] - 3s 10us/step - loss: 0.6661 - accuracy: 0.5860\n",
      "Epoch 118/250\n",
      "309351/309351 [==============================] - 3s 9us/step - loss: 0.6659 - accuracy: 0.5864\n",
      "Epoch 119/250\n",
      "309351/309351 [==============================] - 3s 9us/step - loss: 0.6663 - accuracy: 0.5867\n",
      "Epoch 120/250\n",
      "309351/309351 [==============================] - 3s 9us/step - loss: 0.6661 - accuracy: 0.5859\n",
      "Epoch 121/250\n",
      "309351/309351 [==============================] - 3s 9us/step - loss: 0.6658 - accuracy: 0.5861\n",
      "Epoch 122/250\n",
      "309351/309351 [==============================] - 3s 9us/step - loss: 0.6658 - accuracy: 0.5867\n",
      "Epoch 123/250\n",
      "309351/309351 [==============================] - 3s 9us/step - loss: 0.6662 - accuracy: 0.5869\n",
      "Epoch 124/250\n",
      "309351/309351 [==============================] - 3s 9us/step - loss: 0.6655 - accuracy: 0.5882\n",
      "Epoch 125/250\n",
      "309351/309351 [==============================] - 3s 9us/step - loss: 0.6655 - accuracy: 0.5880\n",
      "Epoch 126/250\n",
      "309351/309351 [==============================] - 3s 9us/step - loss: 0.6658 - accuracy: 0.5867\n",
      "Epoch 127/250\n",
      "309351/309351 [==============================] - 3s 9us/step - loss: 0.6655 - accuracy: 0.5874\n",
      "Epoch 128/250\n",
      "309351/309351 [==============================] - 3s 9us/step - loss: 0.6659 - accuracy: 0.5858\n",
      "Epoch 129/250\n",
      "309351/309351 [==============================] - 3s 9us/step - loss: 0.6655 - accuracy: 0.5874\n",
      "Epoch 130/250\n",
      "309351/309351 [==============================] - 3s 9us/step - loss: 0.6656 - accuracy: 0.5869\n",
      "Epoch 131/250\n",
      "309351/309351 [==============================] - 3s 9us/step - loss: 0.6655 - accuracy: 0.5878\n",
      "Epoch 132/250\n",
      "309351/309351 [==============================] - 3s 9us/step - loss: 0.6655 - accuracy: 0.5883\n",
      "Epoch 133/250\n",
      "309351/309351 [==============================] - 3s 9us/step - loss: 0.6651 - accuracy: 0.5885\n",
      "Epoch 134/250\n",
      "309351/309351 [==============================] - 3s 9us/step - loss: 0.6653 - accuracy: 0.5870\n",
      "Epoch 135/250\n",
      "309351/309351 [==============================] - 3s 9us/step - loss: 0.6651 - accuracy: 0.5886\n",
      "Epoch 136/250\n",
      "309351/309351 [==============================] - 3s 9us/step - loss: 0.6652 - accuracy: 0.5894\n",
      "Epoch 137/250\n",
      "309351/309351 [==============================] - 3s 9us/step - loss: 0.6653 - accuracy: 0.5875\n",
      "Epoch 138/250\n",
      "309351/309351 [==============================] - 3s 9us/step - loss: 0.6652 - accuracy: 0.5885\n",
      "Epoch 139/250\n",
      "309351/309351 [==============================] - 3s 9us/step - loss: 0.6651 - accuracy: 0.5880\n",
      "Epoch 140/250\n",
      "309351/309351 [==============================] - 3s 9us/step - loss: 0.6650 - accuracy: 0.5881\n",
      "Epoch 141/250\n",
      "309351/309351 [==============================] - 3s 9us/step - loss: 0.6647 - accuracy: 0.5887\n",
      "Epoch 142/250\n",
      "309351/309351 [==============================] - 3s 9us/step - loss: 0.6647 - accuracy: 0.5892\n",
      "Epoch 143/250\n",
      "309351/309351 [==============================] - 3s 9us/step - loss: 0.6648 - accuracy: 0.5886\n",
      "Epoch 144/250\n",
      "309351/309351 [==============================] - 3s 9us/step - loss: 0.6645 - accuracy: 0.5895\n",
      "Epoch 145/250\n",
      "309351/309351 [==============================] - 3s 9us/step - loss: 0.6646 - accuracy: 0.5897: 1s - l\n",
      "Epoch 146/250\n",
      "309351/309351 [==============================] - 3s 9us/step - loss: 0.6648 - accuracy: 0.5888\n",
      "Epoch 147/250\n",
      "309351/309351 [==============================] - 3s 9us/step - loss: 0.6644 - accuracy: 0.5901\n",
      "Epoch 148/250\n",
      "309351/309351 [==============================] - 3s 10us/step - loss: 0.6647 - accuracy: 0.5884\n",
      "Epoch 149/250\n",
      "309351/309351 [==============================] - 3s 9us/step - loss: 0.6647 - accuracy: 0.5894\n",
      "Epoch 150/250\n",
      "309351/309351 [==============================] - 3s 9us/step - loss: 0.6645 - accuracy: 0.5896\n",
      "Epoch 151/250\n"
     ]
    },
    {
     "name": "stdout",
     "output_type": "stream",
     "text": [
      "309351/309351 [==============================] - 3s 9us/step - loss: 0.6645 - accuracy: 0.5892\n",
      "Epoch 152/250\n",
      "309351/309351 [==============================] - 3s 9us/step - loss: 0.6643 - accuracy: 0.5903\n",
      "Epoch 153/250\n",
      "309351/309351 [==============================] - 3s 9us/step - loss: 0.6645 - accuracy: 0.5892\n",
      "Epoch 154/250\n",
      "309351/309351 [==============================] - 3s 9us/step - loss: 0.6641 - accuracy: 0.5900\n",
      "Epoch 155/250\n",
      "309351/309351 [==============================] - 3s 9us/step - loss: 0.6641 - accuracy: 0.5900\n",
      "Epoch 156/250\n",
      "309351/309351 [==============================] - 3s 9us/step - loss: 0.6639 - accuracy: 0.5907\n",
      "Epoch 157/250\n",
      "309351/309351 [==============================] - 3s 9us/step - loss: 0.6639 - accuracy: 0.5901\n",
      "Epoch 158/250\n",
      "309351/309351 [==============================] - 3s 9us/step - loss: 0.6643 - accuracy: 0.5896\n",
      "Epoch 159/250\n",
      "309351/309351 [==============================] - 3s 9us/step - loss: 0.6641 - accuracy: 0.5894\n",
      "Epoch 160/250\n",
      "309351/309351 [==============================] - 3s 9us/step - loss: 0.6638 - accuracy: 0.5902\n",
      "Epoch 161/250\n",
      "309351/309351 [==============================] - 3s 9us/step - loss: 0.6637 - accuracy: 0.5908\n",
      "Epoch 162/250\n",
      "309351/309351 [==============================] - 3s 9us/step - loss: 0.6640 - accuracy: 0.5912\n",
      "Epoch 163/250\n",
      "309351/309351 [==============================] - 3s 9us/step - loss: 0.6639 - accuracy: 0.5900\n",
      "Epoch 164/250\n",
      "309351/309351 [==============================] - 3s 9us/step - loss: 0.6637 - accuracy: 0.5916\n",
      "Epoch 165/250\n",
      "309351/309351 [==============================] - 3s 9us/step - loss: 0.6634 - accuracy: 0.5916\n",
      "Epoch 166/250\n",
      "309351/309351 [==============================] - 3s 9us/step - loss: 0.6641 - accuracy: 0.5897\n",
      "Epoch 167/250\n",
      "309351/309351 [==============================] - 3s 9us/step - loss: 0.6632 - accuracy: 0.5912\n",
      "Epoch 168/250\n",
      "309351/309351 [==============================] - 3s 9us/step - loss: 0.6630 - accuracy: 0.5914\n",
      "Epoch 169/250\n",
      "309351/309351 [==============================] - 3s 9us/step - loss: 0.6634 - accuracy: 0.5907\n",
      "Epoch 170/250\n",
      "309351/309351 [==============================] - 3s 9us/step - loss: 0.6633 - accuracy: 0.5919\n",
      "Epoch 171/250\n",
      "309351/309351 [==============================] - 3s 9us/step - loss: 0.6638 - accuracy: 0.5904\n",
      "Epoch 172/250\n",
      "309351/309351 [==============================] - 3s 8us/step - loss: 0.6632 - accuracy: 0.5910\n",
      "Epoch 173/250\n",
      "309351/309351 [==============================] - 3s 9us/step - loss: 0.6635 - accuracy: 0.5906\n",
      "Epoch 174/250\n",
      "309351/309351 [==============================] - 3s 9us/step - loss: 0.6631 - accuracy: 0.5914\n",
      "Epoch 175/250\n",
      "309351/309351 [==============================] - 3s 9us/step - loss: 0.6635 - accuracy: 0.5915\n",
      "Epoch 176/250\n",
      "309351/309351 [==============================] - 3s 9us/step - loss: 0.6633 - accuracy: 0.5912\n",
      "Epoch 177/250\n",
      "309351/309351 [==============================] - 3s 9us/step - loss: 0.6634 - accuracy: 0.5915\n",
      "Epoch 178/250\n",
      "309351/309351 [==============================] - 3s 8us/step - loss: 0.6627 - accuracy: 0.5921\n",
      "Epoch 179/250\n",
      "309351/309351 [==============================] - 3s 9us/step - loss: 0.6627 - accuracy: 0.5927\n",
      "Epoch 180/250\n",
      "309351/309351 [==============================] - 3s 9us/step - loss: 0.6631 - accuracy: 0.5906\n",
      "Epoch 181/250\n",
      "309351/309351 [==============================] - 3s 9us/step - loss: 0.6633 - accuracy: 0.5919\n",
      "Epoch 182/250\n",
      "309351/309351 [==============================] - 3s 9us/step - loss: 0.6626 - accuracy: 0.5920\n",
      "Epoch 183/250\n",
      "309351/309351 [==============================] - 3s 9us/step - loss: 0.6629 - accuracy: 0.5922\n",
      "Epoch 184/250\n",
      "309351/309351 [==============================] - 3s 9us/step - loss: 0.6628 - accuracy: 0.5915\n",
      "Epoch 185/250\n",
      "309351/309351 [==============================] - 3s 9us/step - loss: 0.6626 - accuracy: 0.5931\n",
      "Epoch 186/250\n",
      "309351/309351 [==============================] - 3s 8us/step - loss: 0.6628 - accuracy: 0.5917\n",
      "Epoch 187/250\n",
      "309351/309351 [==============================] - 3s 9us/step - loss: 0.6631 - accuracy: 0.5913\n",
      "Epoch 188/250\n",
      "309351/309351 [==============================] - 3s 9us/step - loss: 0.6627 - accuracy: 0.5920\n",
      "Epoch 189/250\n",
      "309351/309351 [==============================] - 3s 9us/step - loss: 0.6627 - accuracy: 0.5926\n",
      "Epoch 190/250\n",
      "309351/309351 [==============================] - 3s 9us/step - loss: 0.6624 - accuracy: 0.5921\n",
      "Epoch 191/250\n",
      "309351/309351 [==============================] - 3s 9us/step - loss: 0.6623 - accuracy: 0.5925\n",
      "Epoch 192/250\n",
      "309351/309351 [==============================] - 3s 9us/step - loss: 0.6626 - accuracy: 0.5928\n",
      "Epoch 193/250\n",
      "309351/309351 [==============================] - 3s 9us/step - loss: 0.6627 - accuracy: 0.5938\n",
      "Epoch 194/250\n",
      "309351/309351 [==============================] - 3s 9us/step - loss: 0.6625 - accuracy: 0.5924\n",
      "Epoch 195/250\n",
      "309351/309351 [==============================] - 3s 9us/step - loss: 0.6623 - accuracy: 0.5928\n",
      "Epoch 196/250\n",
      "309351/309351 [==============================] - 3s 9us/step - loss: 0.6626 - accuracy: 0.5922\n",
      "Epoch 197/250\n",
      "309351/309351 [==============================] - 3s 9us/step - loss: 0.6624 - accuracy: 0.5923\n",
      "Epoch 198/250\n",
      "309351/309351 [==============================] - 3s 9us/step - loss: 0.6622 - accuracy: 0.5926\n",
      "Epoch 199/250\n",
      "309351/309351 [==============================] - 3s 8us/step - loss: 0.6623 - accuracy: 0.5932\n",
      "Epoch 200/250\n",
      "309351/309351 [==============================] - 3s 9us/step - loss: 0.6623 - accuracy: 0.5930: 0s - loss: 0.6620 - ac\n",
      "Epoch 201/250\n",
      "309351/309351 [==============================] - 3s 9us/step - loss: 0.6625 - accuracy: 0.5931\n",
      "Epoch 202/250\n",
      "309351/309351 [==============================] - 3s 9us/step - loss: 0.6620 - accuracy: 0.5936\n",
      "Epoch 203/250\n",
      "309351/309351 [==============================] - 3s 8us/step - loss: 0.6617 - accuracy: 0.5937\n",
      "Epoch 204/250\n",
      "309351/309351 [==============================] - 3s 8us/step - loss: 0.6622 - accuracy: 0.5920\n",
      "Epoch 205/250\n",
      "309351/309351 [==============================] - 3s 8us/step - loss: 0.6624 - accuracy: 0.5938\n",
      "Epoch 206/250\n",
      "309351/309351 [==============================] - 3s 8us/step - loss: 0.6619 - accuracy: 0.5932\n",
      "Epoch 207/250\n",
      "309351/309351 [==============================] - 3s 8us/step - loss: 0.6623 - accuracy: 0.5931\n",
      "Epoch 208/250\n",
      "309351/309351 [==============================] - 3s 8us/step - loss: 0.6618 - accuracy: 0.5932: 0s - loss: 0.6616 - accura\n",
      "Epoch 209/250\n",
      "309351/309351 [==============================] - 3s 8us/step - loss: 0.6615 - accuracy: 0.5940\n",
      "Epoch 210/250\n",
      "309351/309351 [==============================] - 3s 8us/step - loss: 0.6620 - accuracy: 0.5937\n",
      "Epoch 211/250\n",
      "309351/309351 [==============================] - 3s 8us/step - loss: 0.6615 - accuracy: 0.5935\n",
      "Epoch 212/250\n",
      "309351/309351 [==============================] - 3s 8us/step - loss: 0.6623 - accuracy: 0.5930\n",
      "Epoch 213/250\n",
      "309351/309351 [==============================] - 3s 8us/step - loss: 0.6618 - accuracy: 0.5946\n",
      "Epoch 214/250\n",
      "309351/309351 [==============================] - 3s 9us/step - loss: 0.6616 - accuracy: 0.5946\n",
      "Epoch 215/250\n",
      "309351/309351 [==============================] - 3s 10us/step - loss: 0.6617 - accuracy: 0.5942\n",
      "Epoch 216/250\n",
      "309351/309351 [==============================] - 3s 10us/step - loss: 0.6616 - accuracy: 0.5935\n",
      "Epoch 217/250\n",
      "309351/309351 [==============================] - 3s 9us/step - loss: 0.6614 - accuracy: 0.5941\n",
      "Epoch 218/250\n",
      "309351/309351 [==============================] - 3s 9us/step - loss: 0.6616 - accuracy: 0.5942\n",
      "Epoch 219/250\n",
      "309351/309351 [==============================] - 3s 9us/step - loss: 0.6615 - accuracy: 0.5941\n",
      "Epoch 220/250\n",
      "309351/309351 [==============================] - 3s 9us/step - loss: 0.6615 - accuracy: 0.5941\n",
      "Epoch 221/250\n",
      "309351/309351 [==============================] - 3s 9us/step - loss: 0.6612 - accuracy: 0.5948\n",
      "Epoch 222/250\n",
      "309351/309351 [==============================] - 3s 9us/step - loss: 0.6616 - accuracy: 0.5942\n",
      "Epoch 223/250\n",
      "309351/309351 [==============================] - 3s 9us/step - loss: 0.6616 - accuracy: 0.5934\n",
      "Epoch 224/250\n",
      "309351/309351 [==============================] - 3s 9us/step - loss: 0.6618 - accuracy: 0.5937\n",
      "Epoch 225/250\n"
     ]
    },
    {
     "name": "stdout",
     "output_type": "stream",
     "text": [
      "309351/309351 [==============================] - 3s 9us/step - loss: 0.6616 - accuracy: 0.5938\n",
      "Epoch 226/250\n",
      "309351/309351 [==============================] - 3s 9us/step - loss: 0.6616 - accuracy: 0.5936\n",
      "Epoch 227/250\n",
      "309351/309351 [==============================] - 3s 9us/step - loss: 0.6613 - accuracy: 0.5956\n",
      "Epoch 228/250\n",
      "309351/309351 [==============================] - 3s 9us/step - loss: 0.6612 - accuracy: 0.5943: 1s\n",
      "Epoch 229/250\n",
      "309351/309351 [==============================] - 3s 9us/step - loss: 0.6613 - accuracy: 0.5936\n",
      "Epoch 230/250\n",
      "309351/309351 [==============================] - 3s 9us/step - loss: 0.6608 - accuracy: 0.5959\n",
      "Epoch 231/250\n",
      "309351/309351 [==============================] - 3s 9us/step - loss: 0.6614 - accuracy: 0.5949\n",
      "Epoch 232/250\n",
      "309351/309351 [==============================] - 3s 9us/step - loss: 0.6611 - accuracy: 0.5945\n",
      "Epoch 233/250\n",
      "309351/309351 [==============================] - 3s 10us/step - loss: 0.6613 - accuracy: 0.5939\n",
      "Epoch 234/250\n",
      "309351/309351 [==============================] - 3s 10us/step - loss: 0.6611 - accuracy: 0.5952\n",
      "Epoch 235/250\n",
      "309351/309351 [==============================] - 3s 10us/step - loss: 0.6612 - accuracy: 0.5948\n",
      "Epoch 236/250\n",
      "309351/309351 [==============================] - 3s 9us/step - loss: 0.6611 - accuracy: 0.5957\n",
      "Epoch 237/250\n",
      "309351/309351 [==============================] - 3s 9us/step - loss: 0.6610 - accuracy: 0.5949\n",
      "Epoch 238/250\n",
      "309351/309351 [==============================] - 3s 9us/step - loss: 0.6608 - accuracy: 0.5940\n",
      "Epoch 239/250\n",
      "309351/309351 [==============================] - 3s 9us/step - loss: 0.6611 - accuracy: 0.5957\n",
      "Epoch 240/250\n",
      "309351/309351 [==============================] - 3s 9us/step - loss: 0.6610 - accuracy: 0.5957\n",
      "Epoch 241/250\n",
      "309351/309351 [==============================] - 3s 9us/step - loss: 0.6609 - accuracy: 0.5951\n",
      "Epoch 242/250\n",
      "309351/309351 [==============================] - 3s 9us/step - loss: 0.6609 - accuracy: 0.5953\n",
      "Epoch 243/250\n",
      "309351/309351 [==============================] - 3s 9us/step - loss: 0.6609 - accuracy: 0.5958\n",
      "Epoch 244/250\n",
      "309351/309351 [==============================] - 3s 9us/step - loss: 0.6607 - accuracy: 0.5962\n",
      "Epoch 245/250\n",
      "309351/309351 [==============================] - 3s 9us/step - loss: 0.6607 - accuracy: 0.5947\n",
      "Epoch 246/250\n",
      "309351/309351 [==============================] - 3s 9us/step - loss: 0.6610 - accuracy: 0.5952\n",
      "Epoch 247/250\n",
      "309351/309351 [==============================] - 3s 10us/step - loss: 0.6607 - accuracy: 0.5955\n",
      "Epoch 248/250\n",
      "309351/309351 [==============================] - 3s 10us/step - loss: 0.6606 - accuracy: 0.5958\n",
      "Epoch 249/250\n",
      "309351/309351 [==============================] - 3s 9us/step - loss: 0.6604 - accuracy: 0.5960\n",
      "Epoch 250/250\n",
      "309351/309351 [==============================] - 3s 10us/step - loss: 0.6606 - accuracy: 0.5960\n",
      "\n",
      "Elapsed time: 679.92600274086 s\n"
     ]
    }
   ],
   "source": [
    "t_0 = time.time()\n",
    "model.fit(X_train, y_train, epochs=250, batch_size=5000)\n",
    "print('\\nElapsed time: {} s'.format(time.time() - t_0))"
   ]
  },
  {
   "cell_type": "markdown",
   "metadata": {},
   "source": [
    "## Testing network\n",
    "In order to test the NN one need to perform prediction with the already trained model on another set, not used in learning process. This is also to check the presence of *overfitting* phenomena, that bring to good performance on the train observations, but lack of generalization in unseen input data."
   ]
  },
  {
   "cell_type": "code",
   "execution_count": 66,
   "metadata": {},
   "outputs": [],
   "source": [
    "from sklearn.metrics import classification_report, confusion_matrix"
   ]
  },
  {
   "cell_type": "code",
   "execution_count": 67,
   "metadata": {},
   "outputs": [],
   "source": [
    "y_predict = model.predict(X_test)"
   ]
  },
  {
   "cell_type": "code",
   "execution_count": 68,
   "metadata": {},
   "outputs": [],
   "source": [
    "# 'predict_classes' method returns class with format [0]-[1]\n",
    "y_predict = model.predict_classes(X_test)\n",
    "# transform to bool to compare with y_test\n",
    "y_predict = [True if j==[1] else False for j in y_predict]"
   ]
  },
  {
   "cell_type": "markdown",
   "metadata": {},
   "source": [
    "#### Classification report"
   ]
  },
  {
   "cell_type": "code",
   "execution_count": 69,
   "metadata": {},
   "outputs": [
    {
     "name": "stdout",
     "output_type": "stream",
     "text": [
      "              precision    recall  f1-score   support\n",
      "\n",
      "       False    0.57279   0.59626   0.58429     51627\n",
      "        True    0.57784   0.55411   0.56573     51490\n",
      "\n",
      "    accuracy                        0.57521    103117\n",
      "   macro avg    0.57532   0.57518   0.57501    103117\n",
      "weighted avg    0.57531   0.57521   0.57502    103117\n",
      "\n"
     ]
    }
   ],
   "source": [
    "print(classification_report(y_test, y_predict, digits=5))"
   ]
  },
  {
   "cell_type": "markdown",
   "metadata": {},
   "source": [
    "#### Confusion matrix"
   ]
  },
  {
   "cell_type": "code",
   "execution_count": 132,
   "metadata": {},
   "outputs": [
    {
     "data": {
      "text/plain": [
       "(2.0, 0.0)"
      ]
     },
     "execution_count": 132,
     "metadata": {},
     "output_type": "execute_result"
    },
    {
     "data": {
      "image/png": "[encoded data removed]",
      "text/plain": [
       "<Figure size 432x288 with 1 Axes>"
      ]
     },
     "metadata": {},
     "output_type": "display_data"
    }
   ],
   "source": [
    "conf_matrix = confusion_matrix(y_test, y_predict)\n",
    "p = sns.heatmap(conf_matrix / np.sum(conf_matrix), vmax=.35, vmin=.10, center=0, square=True, linewidths=.5,\n",
    "                annot=True, annot_kws={'size': 16}, cbar=False, cmap='BrBG')\n",
    "p.tick_params(labelsize=15)\n",
    "bottom, top = p.get_ylim()\n",
    "p.set_ylim(bottom+.5, top-.5)"
   ]
  },
  {
   "cell_type": "markdown",
   "metadata": {},
   "source": [
    "# Comparison with classical models\n",
    "In order to evaluate the goodness of the previews network, one could compare its performance against other models."
   ]
  },
  {
   "cell_type": "markdown",
   "metadata": {},
   "source": [
    "## Logistic Regression\n",
    "Logit il probably the simplest native model for binary classification, and usually the first one used facing a Machine Learning problem from scratch (following *Occam Razor principle*).\\\n",
    "In this case it's just presented without any expectation, since the problem is clearly to complex for this algorithm."
   ]
  },
  {
   "cell_type": "code",
   "execution_count": 71,
   "metadata": {},
   "outputs": [],
   "source": [
    "from sklearn.linear_model import LogisticRegression"
   ]
  },
  {
   "cell_type": "code",
   "execution_count": 72,
   "metadata": {},
   "outputs": [],
   "source": [
    "# learn\n",
    "lr = LogisticRegression().fit(X_train, y_train)"
   ]
  },
  {
   "cell_type": "code",
   "execution_count": 73,
   "metadata": {},
   "outputs": [],
   "source": [
    "# test\n",
    "y_lr_predict = lr.predict(X_test)"
   ]
  },
  {
   "cell_type": "markdown",
   "metadata": {},
   "source": [
    "#### Classification report"
   ]
  },
  {
   "cell_type": "code",
   "execution_count": 74,
   "metadata": {},
   "outputs": [
    {
     "name": "stdout",
     "output_type": "stream",
     "text": [
      "              precision    recall  f1-score   support\n",
      "\n",
      "       False    0.51597   0.51190   0.51393     51627\n",
      "        True    0.51444   0.51851   0.51647     51490\n",
      "\n",
      "    accuracy                        0.51520    103117\n",
      "   macro avg    0.51521   0.51521   0.51520    103117\n",
      "weighted avg    0.51521   0.51520   0.51520    103117\n",
      "\n"
     ]
    }
   ],
   "source": [
    "print(classification_report(y_test, y_lr_predict, digits=5))"
   ]
  },
  {
   "cell_type": "markdown",
   "metadata": {},
   "source": [
    "#### Confusion matrix"
   ]
  },
  {
   "cell_type": "code",
   "execution_count": 134,
   "metadata": {},
   "outputs": [
    {
     "data": {
      "text/plain": [
       "(2.0, 0.0)"
      ]
     },
     "execution_count": 134,
     "metadata": {},
     "output_type": "execute_result"
    },
    {
     "data": {
      "image/png": "[encoded data removed]",
      "text/plain": [
       "<Figure size 432x288 with 1 Axes>"
      ]
     },
     "metadata": {},
     "output_type": "display_data"
    }
   ],
   "source": [
    "# compute confusion matrix\n",
    "conf_matrix = confusion_matrix(y_test, y_lr_predict)\n",
    "\n",
    "# plot confusion matrix\n",
    "p = sns.heatmap(conf_matrix / np.sum(conf_matrix), vmax=.35, vmin=.10, center=0, square=True, linewidths=.5,\n",
    "                annot=True, annot_kws={\"size\": 16}, cbar=False, cmap='BrBG')\n",
    "p.tick_params(labelsize=15)\n",
    "\n",
    "# fix matplotlib/seaborn bug\n",
    "bottom, top = p.get_ylim()\n",
    "p.set_ylim(bottom+.5, top-.5)"
   ]
  },
  {
   "cell_type": "markdown",
   "metadata": {},
   "source": [
    "As expected, even if training is really fast, results are quite poor and `accuracy` is only a little greater than 51% and Logistic Regression confirms not to be adapt to learn the complexity of this problem."
   ]
  },
  {
   "cell_type": "markdown",
   "metadata": {},
   "source": [
    "## Random Forest"
   ]
  },
  {
   "cell_type": "code",
   "execution_count": 75,
   "metadata": {},
   "outputs": [],
   "source": [
    "from sklearn.ensemble import RandomForestClassifier"
   ]
  },
  {
   "cell_type": "markdown",
   "metadata": {},
   "source": [
    "Here the learning model is build by **200 trees**, while **max depth** is set to **15 nodes**, in order to prevent overfitting and limit the learning time.\\\n",
    "\\\n",
    "**Warning!** Training could take ~ 10 mins"
   ]
  },
  {
   "cell_type": "code",
   "execution_count": 84,
   "metadata": {},
   "outputs": [
    {
     "name": "stdout",
     "output_type": "stream",
     "text": [
      "Elapsed time: 657.3899207115173 s\n"
     ]
    }
   ],
   "source": [
    "# model definition\n",
    "rf = RandomForestClassifier(n_estimators=200, max_depth=15)\n",
    "\n",
    "# learn\n",
    "t_0 = time.time()\n",
    "rf.fit(X_train, y_train)\n",
    "print('Elapsed time: {} s'.format(time.time() - t_0))"
   ]
  },
  {
   "cell_type": "code",
   "execution_count": 85,
   "metadata": {},
   "outputs": [],
   "source": [
    "# test\n",
    "y_rf_predict = rf.predict(X_test)"
   ]
  },
  {
   "cell_type": "markdown",
   "metadata": {},
   "source": [
    "#### Classification report"
   ]
  },
  {
   "cell_type": "code",
   "execution_count": 86,
   "metadata": {},
   "outputs": [
    {
     "name": "stdout",
     "output_type": "stream",
     "text": [
      "              precision    recall  f1-score   support\n",
      "\n",
      "       False    0.57445   0.57962   0.57702     51627\n",
      "        True    0.57466   0.56947   0.57205     51490\n",
      "\n",
      "    accuracy                        0.57455    103117\n",
      "   macro avg    0.57455   0.57454   0.57454    103117\n",
      "weighted avg    0.57455   0.57455   0.57454    103117\n",
      "\n"
     ]
    }
   ],
   "source": [
    "print(classification_report(y_test, y_rf_predict, digits=5))"
   ]
  },
  {
   "cell_type": "markdown",
   "metadata": {},
   "source": [
    "#### Confusion matrix"
   ]
  },
  {
   "cell_type": "code",
   "execution_count": 135,
   "metadata": {},
   "outputs": [
    {
     "data": {
      "text/plain": [
       "(2.0, 0.0)"
      ]
     },
     "execution_count": 135,
     "metadata": {},
     "output_type": "execute_result"
    },
    {
     "data": {
      "image/png": "[encoded data removed]",
      "text/plain": [
       "<Figure size 432x288 with 1 Axes>"
      ]
     },
     "metadata": {},
     "output_type": "display_data"
    }
   ],
   "source": [
    "# compute confusion matrix\n",
    "conf_matrix = confusion_matrix(y_test, y_rf_predict)\n",
    "\n",
    "# plot confusion matrix\n",
    "p = sns.heatmap(conf_matrix / np.sum(conf_matrix), vmax=.35, vmin=.10, center=0, square=True, linewidths=.5,\n",
    "                annot=True, annot_kws={\"size\": 16}, cbar=False, cmap='BrBG')\n",
    "p.tick_params(labelsize=15)\n",
    "\n",
    "# fix matplotlib/seaborn bug\n",
    "bottom, top = p.get_ylim()\n",
    "p.set_ylim(bottom+.5, top-.5)"
   ]
  },
  {
   "cell_type": "markdown",
   "metadata": {},
   "source": [
    "# Final thoughts"
   ]
  },
  {
   "cell_type": "markdown",
   "metadata": {},
   "source": [
    "Both the accuracy scores for **Neural Network** and **Random Forest** overperformed the benchmark.\\\n",
    "In particular Random Forest used was built by less trees than the one used as benchmark (200 trees against 500), that confirms the good choice made in feature engineering.\\\n",
    "Results for Random Forest and Neural Network are comparable, both in score and learning time, even after a *newbie* tuning of the network. This makes me believe that, with more experience and trials, deep learning could reach much better results and performances."
   ]
  },
  {
   "cell_type": "markdown",
   "metadata": {},
   "source": [
    "### Trading strategy simulation\n",
    "I simulated a *long/short strategy*, i.e. a classical trading strategy when one takes a long position in a stock that is expected to increase in value and a short position in stock that is expected to decrease, by this way one can gain from both the daily market movements of a stock.\\\n",
    "For semplicity, I assumed to gain +1 in case of right prediction on the following-day movement and to lose -1 if model does wrong.\\\n",
    "I simulated the strategy for 100 trading days and plotted the performances over time for each trained algorithm."
   ]
  },
  {
   "cell_type": "code",
   "execution_count": 249,
   "metadata": {},
   "outputs": [],
   "source": [
    "from sklearn.metrics import accuracy_score\n",
    "\n",
    "# simulation parameters\n",
    "N_SIMU = 1000\n",
    "N_DAYS = 100\n",
    "\n",
    "# get accuracy\n",
    "nn_accuracy = accuracy_score(y_test, y_predict) # neural network\n",
    "rf_accuracy = accuracy_score(y_test, y_rf_predict) # random forest\n",
    "lr_accuracy = accuracy_score(y_test, y_lr_predict) # logistic regression\n",
    "\n",
    "# initialize strategy results\n",
    "nn_strategy = np.zeros(N_DAYS)\n",
    "rf_strategy = np.zeros_like(nn_strategy)\n",
    "lr_strategy = np.zeros_like(nn_strategy)\n",
    "\n",
    "# simulate\n",
    "for i in range(N_SIMU):\n",
    "    tmp_nn_strategy = []\n",
    "    tmp_rf_strategy = []\n",
    "    tmp_lr_strategy = []\n",
    "    for d in range(N_DAYS):\n",
    "        tmp_nn_strategy.append(+1 if nn_accuracy > np.random.random() else -1)\n",
    "        tmp_rf_strategy.append(+1 if rf_accuracy > np.random.random() else -1)\n",
    "        tmp_lr_strategy.append(+1 if lr_accuracy > np.random.random() else -1)\n",
    "    # comulative sum\n",
    "    nn_strategy += np.cumsum(tmp_nn_strategy)\n",
    "    rf_strategy += np.cumsum(tmp_rf_strategy)\n",
    "    lr_strategy += np.cumsum(tmp_lr_strategy)\n",
    "    \n",
    "# compute average performance\n",
    "nn_strategy /= N_SIMU\n",
    "rf_strategy /= N_SIMU\n",
    "lr_strategy /= N_SIMU"
   ]
  },
  {
   "cell_type": "code",
   "execution_count": 251,
   "metadata": {},
   "outputs": [
    {
     "data": {
      "text/plain": [
       "<matplotlib.legend.Legend at 0x8e1d00d988>"
      ]
     },
     "execution_count": 251,
     "metadata": {},
     "output_type": "execute_result"
    },
    {
     "data": {
      "image/png": "[encoded data removed]",
      "text/plain": [
       "<Figure size 720x432 with 1 Axes>"
      ]
     },
     "metadata": {},
     "output_type": "display_data"
    }
   ],
   "source": [
    "# plot simulation\n",
    "f = plt.figure(figsize=[10,6])\n",
    "plt.grid(False)\n",
    "plt.plot(range(N_DAYS), nn_strategy, label='NN, acc = {:1.4f}'.format(nn_accuracy), linewidth=2, alpha=.8, c='firebrick')\n",
    "plt.plot(range(N_DAYS), rf_strategy, label='RF, acc = {:1.4f}'.format(rf_accuracy), linewidth=2, alpha=.8, c='seagreen')\n",
    "plt.plot(range(N_DAYS), lr_strategy, label='LR, acc = {:1.4f}'.format(lr_accuracy), linewidth=2, alpha=.8, c='darkcyan')\n",
    "plt.title('Short-Long strategy simulation')\n",
    "plt.xlabel('Days')\n",
    "plt.ylabel('PnL')\n",
    "plt.legend()"
   ]
  }
 ],
 "metadata": {
  "file_extension": ".py",
  "kernelspec": {
   "display_name": "Python 3",
   "language": "python",
   "name": "python3"
  },
  "language_info": {
   "codemirror_mode": {
    "name": "ipython",
    "version": 3
   },
   "file_extension": ".py",
   "mimetype": "text/x-python",
   "name": "python",
   "nbconvert_exporter": "python",
   "pygments_lexer": "ipython3",
   "version": "3.7.6"
  },
  "mimetype": "text/x-python",
  "name": "python",
  "npconvert_exporter": "python",
  "pygments_lexer": "ipython3",
  "version": 3
 },
 "nbformat": 4,
 "nbformat_minor": 2
}
